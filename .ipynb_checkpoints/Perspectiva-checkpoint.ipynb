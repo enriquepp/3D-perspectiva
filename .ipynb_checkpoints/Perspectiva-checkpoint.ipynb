{
 "cells": [
  {
   "cell_type": "markdown",
   "id": "20611183-962e-46e4-99cc-017d09a8e335",
   "metadata": {
    "editable": true,
    "slideshow": {
     "slide_type": ""
    },
    "tags": []
   },
   "source": [
    "# Cálculo con matrices de la representación de un objeto 3D\n",
    "---\n",
    "En este ejercicio, a partir de las posiciones de los vértices de un cubo centrado en el origen, se calcularán mediante el producto de las matrices adecuadas las mismas transformaciones que las realizadas con Blender, así como el cálculo de la perspectiva. El resultado deberá ser similar al producido con Blender.\n",
    "\n",
    "1. Cubo centrado en el origen con lados de longitud: $2 \\: m$, y sus lados perpendiculares a los ejes de coordenadas, por tanto las coordenadas de sus vértices expresadas en metros serán: <br/>$V_1 = (1, 1, 1) , V_2 = (−1, 1, 1) , V_3 = (−1, −1, 1) , V_4 = (1, −1, 1),$\n",
    "$V_5 = (1, 1, −1) , V_6 = (−1, 1, −1) , V_7 = (−1, −1, −1) , V_8 = (1, −1, −1),$ <br/>que corresponden a las «coordenadas del objeto».\n",
    "\n",
    "2. Transformaciones del cubo, que una vez realizadas producirán las «coordenadas en en mundo» del objeto:\n",
    "   - Traslación vector: $(-4,5,-4)$\n",
    "   - Rotación OY: $30º$\n",
    "   - Rotación OZ: $-15º$\n",
    "   - Factor de escala: $(2,2,2)$<br/><br/> \n",
    "\n",
    "3. Cámara, por defecto centrada en el origen con orientación apuntando en dirección OZ negativa, con eje vertical en la dirección OY positiva, y sus transformaciones a su posición en el mundo:\n",
    "   - Traslación vector: $(7,-7,5)$\n",
    "   - Rotación OX: $60º$\n",
    "   - Rotación OZ: $45º$<br/><br/>\n",
    "\n",
    "4. Cambio de sistema de coordenadas a la cámara, que equivale a la transformación anterior inversa aplicada al objeto, produciendo las «coordenadas respecto de la vista» del objeto.\n",
    "\n",
    "5. Proyección a las «coordenadas del recorte» y a las «coordenadas de proyección», teniendo en cuenta los parámetros:\n",
    "   - apertura del campo de visión: $40º$\n",
    "   - profundidad mínima: $0.1 \\: m$ $(z_{near}=-0.1)$\n",
    "   - profundidad máxima: $100 \\: m$ $(z_{far}=-100)$\n",
    "   - relación de aspecto: $16/9$\n"
   ]
  },
  {
   "cell_type": "markdown",
   "id": "3de393ef-f066-4007-a0b9-ab3fbfc6b2c7",
   "metadata": {},
   "source": [
    "## 1. Matriz del modelo y coordenadas en el mundo\n",
    "\n",
    "Calcular la matriz del modelo, que según lo indicado en los apuntes será el producto en el orden adecuado de las matrices de transformación individuales:\n",
    "\n",
    "$$M=T_{(-4,5,.4)}\\cdot R_{z,-15}\\cdot R_{y,30}\\cdot S_{(2,2,2)}=\\left(\\begin{array}{cccc}\n",
    "1 & 0 & 0 & -4\\\\\n",
    "0 & 1 & 0 & 5\\\\\n",
    "0 & 0 & 1 & -4\\\\\n",
    "0 & 0 & 0 & 1\n",
    "\\end{array}\\right)\\cdot\\left(\\begin{array}{cccc}\n",
    "cos\\left(-15\\textdegree\\right) & -sen\\left(-15\\textdegree\\right) & 0 & 0\\\\\n",
    "sen\\left(-15\\textdegree\\right) & cos\\left(-15\\textdegree\\right) & 0 & 0\\\\\n",
    "0 & 0 & 1 & 0\\\\\n",
    "0 & 0 & 0 & 1\n",
    "\\end{array}\\right)\\cdot$$\n",
    "$$\\cdot\\left(\\begin{array}{cccc}\n",
    "cos\\left(30\\textdegree\\right) & 0 & sen\\left(30\\textdegree\\right) & 0\\\\\n",
    "0 & 1 & 0 & 0\\\\\n",
    "-sen\\left(30\\textdegree\\right) & 0 & cos\\left(30\\textdegree\\right) & 0\\\\\n",
    "0 & 0 & 0 & 1\n",
    "\\end{array}\\right)\\cdot\\left(\\begin{array}{cccc}\n",
    "2 & 0 & 0 & 0\\\\\n",
    "0 & 2 & 0 & 0\\\\\n",
    "0 & 0 & 2 & 0\\\\\n",
    "0 & 0 & 0 & 1\n",
    "\\end{array}\\right)$$\n",
    "\n",
    "Verificar que el resultado coincide con el siguiente:\n"
   ]
  },
  {
   "cell_type": "code",
   "execution_count": null,
   "id": "bfbf9263-3e44-4d04-9ea3-cc8161bc1927",
   "metadata": {},
   "outputs": [],
   "source": [
    "# Cálculo de la matriz del modelo\n",
    "#! pip install sympy -q\n",
    "from sympy import *\n",
    "init_printing()\n",
    "beta = 30*pi/180\n",
    "gamma = -15*pi/180\n",
    "T = Matrix([[1,0,0,-4],[0,1,0,5],[0,0,1,-4],[0,0,0,1]])\n",
    "Rz = Matrix([[cos(gamma),-sin(gamma),0,0],[sin(gamma),cos(gamma),0,0],[0,0,1,0],[0,0,0,1]])\n",
    "Ry = Matrix([[cos(beta),0,sin(beta),0],[0,1,0,0],[-sin(beta),0,cos(beta),0],[0,0,0,1]])\n",
    "S = diag(2,2,2,1)\n",
    "M = simplify(T*Rz*Ry*S)\n",
    "M"
   ]
  },
  {
   "cell_type": "markdown",
   "id": "a98b2b94-920f-4306-9fb5-e7b2e0484e1f",
   "metadata": {},
   "source": [
    "Calcular la coordenadas en el mundo por ejemplo del vértice: \n",
    "$$V_{1}=\\left(1,1,1,1\\right)^{t}$$\n",
    "que serán según lo indicado:\n",
    "$$V_{1,M}=M\\cdot V_{1}$$\n",
    "\n",
    "Verificar que el resultado coincide con el siguiente:\n"
   ]
  },
  {
   "cell_type": "code",
   "execution_count": null,
   "id": "8741a3bd-9c72-49ae-8539-c04506a7fead",
   "metadata": {},
   "outputs": [],
   "source": [
    "# Cálculo de las coordenadas en el mundo del vértice V1\n",
    "V1 = Matrix([1,1,1,1])\n",
    "V1M = simplify(M*V1)\n",
    "V1M"
   ]
  },
  {
   "cell_type": "markdown",
   "id": "eefb765d-7bbf-4444-98d7-a7b9036d0c1a",
   "metadata": {},
   "source": [
    "Cuyo valor aproximado es:"
   ]
  },
  {
   "cell_type": "code",
   "execution_count": null,
   "id": "aa0b7b6a-3599-4720-a905-a7a9e5742f95",
   "metadata": {},
   "outputs": [],
   "source": [
    "# Valor aproximado\n",
    "V1M.evalf()"
   ]
  },
  {
   "cell_type": "markdown",
   "id": "2071502b-440e-4300-a7b8-e1ef5060a329",
   "metadata": {},
   "source": [
    "## 2. Matriz del modelo de la cámara y de la vista, y coordenadas de la vista\n",
    "\n",
    "Calcular la matriz del modelo de la cámara, de forma similar a la calculada para el objeto en el punto anterior, por tanto:\n",
    "\n",
    "$$M_{cam}=T_{(7,-7,5)}\\cdot R_{z,45}\\cdot R_{x,60}=\\left(\\begin{array}{cccc}\n",
    "1 & 0 & 0 & 7\\\\\n",
    "0 & 1 & 0 & -7\\\\\n",
    "0 & 0 & 1 & 5\\\\\n",
    "0 & 0 & 0 & 1\n",
    "\\end{array}\\right)\\cdot\\left(\\begin{array}{cccc}\n",
    "cos\\left(45\\textdegree\\right) & -sen\\left(45\\textdegree\\right) & 0 & 0\\\\\n",
    "sen\\left(45\\textdegree\\right) & cos\\left(45\\textdegree\\right) & 0 & 0\\\\\n",
    "0 & 0 & 1 & 0\\\\\n",
    "0 & 0 & 0 & 1\n",
    "\\end{array}\\right)\\cdot$$\n",
    "\n",
    "$$\\cdot \\left( \\begin{array}{cccc}\n",
    "1 & 0 & 0 & 0\\\\\n",
    "0 & cos\\left(60\\textdegree\\right) & -sen\\left(60\\textdegree\\right) & 0\\\\\n",
    "0 & sen\\left(60\\textdegree\\right) & cos\\left(60\\textdegree\\right) & 0\\\\\n",
    "0 & 0 & 0 & 1\n",
    "\\end{array}\\right)$$\n",
    "\n",
    "Verificar que el resultado coincide con el siguiente:\n",
    "\n",
    "\r\n"
   ]
  },
  {
   "cell_type": "code",
   "execution_count": null,
   "id": "0263e0aa-d930-4946-b2f3-106b90e1394c",
   "metadata": {
    "jupyter": {
     "source_hidden": true
    }
   },
   "outputs": [],
   "source": [
    "# Cálculo de la matriz del modelo de la cámara\n",
    "alpha = 60*pi/180\n",
    "gamma = 45*pi/180\n",
    "T = Matrix([[1,0,0,7],[0,1,0,-7],[0,0,1,5],[0,0,0,1]])\n",
    "Rz = Matrix([[cos(gamma),-sin(gamma),0,0],[sin(gamma),cos(gamma),0,0],[0,0,1,0],[0,0,0,1]])\n",
    "Rx = Matrix([[1,0,0,0],[0,cos(alpha),-sin(alpha),0],[0,sin(alpha),cos(alpha),0],[0,0,0,1]])\n",
    "Mcam = simplify(T*Rz*Rx)\n",
    "Mcam"
   ]
  },
  {
   "cell_type": "markdown",
   "id": "78b7ab7a-2bc4-4a46-947c-0bb6bcc28c39",
   "metadata": {},
   "source": [
    "La matriz de la vista es la inversa de la matriz del modelo de la cámara.\n",
    "\n",
    "Calcular las coordenadas de la vista del vértice:\n",
    "$$V_{1}=\\left(1,1,1,1\\right)^{t}$$\n",
    "que serán por tanto:\n",
    "$$V_{1,V}=\\left(M_{cam}\\right)^{-1}\\cdot M\\cdot V_{1}$$\n",
    "\n",
    "Verificar que el resultado coincide con el siguiente:"
   ]
  },
  {
   "cell_type": "code",
   "execution_count": null,
   "id": "2e544d3f-dbc5-4b8f-8549-77f84e5c6a6a",
   "metadata": {
    "jupyter": {
     "source_hidden": true
    }
   },
   "outputs": [],
   "source": [
    "# Cálculo de las coordenadas en de la vista del vértice V1\n",
    "V1 = Matrix([1,1,1,1])\n",
    "V1V = simplify(Mcam**(-1)*M*V1)\n",
    "V1V"
   ]
  },
  {
   "cell_type": "markdown",
   "id": "5ebcc246-87cd-41e0-ba90-e23bf9c66e8a",
   "metadata": {},
   "source": [
    "Cuyo valor aproximado es:"
   ]
  },
  {
   "cell_type": "code",
   "execution_count": null,
   "id": "bb86008e-d8ea-43aa-88df-216c06a5733c",
   "metadata": {
    "jupyter": {
     "source_hidden": true
    }
   },
   "outputs": [],
   "source": [
    "# Valor aproximado\n",
    "V1V.evalf()"
   ]
  },
  {
   "cell_type": "code",
   "execution_count": null,
   "id": "3bf6dfc8-fc4f-42da-be3d-fc52d1449b12",
   "metadata": {},
   "outputs": [],
   "source": []
  }
 ],
 "metadata": {
  "kernelspec": {
   "display_name": "Python 3 (ipykernel)",
   "language": "python",
   "name": "python3"
  },
  "language_info": {
   "codemirror_mode": {
    "name": "ipython",
    "version": 3
   },
   "file_extension": ".py",
   "mimetype": "text/x-python",
   "name": "python",
   "nbconvert_exporter": "python",
   "pygments_lexer": "ipython3",
   "version": "3.12.0"
  }
 },
 "nbformat": 4,
 "nbformat_minor": 5
}
