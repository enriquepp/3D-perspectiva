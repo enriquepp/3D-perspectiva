{
 "cells": [
  {
   "cell_type": "markdown",
   "id": "3213a56a-5b5d-401b-bc31-cef644e5c89d",
   "metadata": {},
   "source": [
    "# Cálculo con matrices de la representación de un objeto 3D\n",
    "---\n",
    "En este ejercicio, a partir de las posiciones de los vértices de un cubo centrado en el origen, se calcularán mediante el producto de las matrices adecuadas las mismas transformaciones que las realizadas con Blender, así como el cálculo de la perspectiva. El resultado deberá ser similar al producido con Blender.\n",
    "\n",
    "1. Cubo, por defecto centrado en el origen con lados de longitud: $2 \\: m$, y sus lados perpendiculares a los ejes de coordenadas, por tanto las coordenadas de sus vértices expresadas en metros serán: <br/>$V_1 = (1, 1, 1) , V_2 = (−1, 1, 1) , V_3 = (−1, −1, 1) , V_4 = (1, −1, 1),$\n",
    "$V_5 = (1, 1, −1) , V_6 = (−1, 1, −1) , V_7 = (−1, −1, −1) , V_8 = (1, −1, −1),$ <br/>que corresponden a las «coordenadas del objeto».\n",
    "\n",
    "2. Transformaciones del cubo, que una vez realizadas producirán las «coordenadas en en mundo» del objeto:\n",
    "   - Traslación vector: $(-4,5,-4)$\n",
    "   - Rotación OY: $30º$\n",
    "   - Rotación OZ: $-15º$\n",
    "   - Factor de escala: $(2,2,2)$\n",
    "   <br/>\n",
    "     \n",
    "3. Cámara, por defecto centrada en el origen con orientación apuntando en dirección OZ negativa, con eje vertical en la dirección OY positiva, y sus transformaciones a su posición en el mundo:\n",
    "   - Traslación vector: $(7,-7,5)$\n",
    "   - Rotación OX: $60º$\n",
    "   - Rotación OZ: $45º$\n",
    "   <br/>\n",
    "\n",
    "4. Cambio de sistema de coordenadas a la cámara, que equivale a la transformación anterior inversa aplicada al objeto, produciendo las «coordenadas respecto de la vista» del objeto.\n",
    "\n",
    "5. Proyección a las «coordenadas del recorte» y a las «coordenadas de proyección», teniendo en cuenta los parámetros:\n",
    "   - apertura del campo de visión: $40º$\n",
    "   - profundidad mínima: $0.1 \\: m$ $(z_{near}=-0.1)$\n",
    "   - profundidad máxima: $100 \\: m$ $(z_{far}=-100)$\n",
    "   - relación de aspecto: $16/9$\n"
   ]
  },
  {
   "cell_type": "markdown",
   "id": "e55cb6dc-4890-464c-971f-97c74709b2ba",
   "metadata": {},
   "source": [
    "## 1. Matriz del modelo y coordenadas en el mundo\n",
    "\n",
    "La matriz del modelo será:\n",
    "\n",
    "$$M=T_{(-4,5,.4)}\\cdot R_{z,-15}\\cdot R_{y,30}\\cdot S_{(2,2,2)}=\\left(\\begin{array}{cccc}\n",
    "1 & 0 & 0 & -4\\\\\n",
    "0 & 1 & 0 & 5\\\\\n",
    "0 & 0 & 1 & -4\\\\\n",
    "0 & 0 & 0 & 1\n",
    "\\end{array}\\right)\\cdot\\left(\\begin{array}{cccc}\n",
    "cos\\left(-15\\textdegree\\right) & -sen\\left(-15\\textdegree\\right) & 0 & 0\\\\\n",
    "sen\\left(-15\\textdegree\\right) & cos\\left(-15\\textdegree\\right) & 0 & 0\\\\\n",
    "0 & 0 & 1 & 0\\\\\n",
    "0 & 0 & 0 & 1\n",
    "\\end{array}\\right)\\cdot$$\n",
    "$$\\cdot\\left(\\begin{array}{cccc}\n",
    "cos\\left(30\\textdegree\\right) & 0 & sen\\left(30\\textdegree\\right) & 0\\\\\n",
    "0 & 1 & 0 & 0\\\\\n",
    "-sen\\left(30\\textdegree\\right) & 0 & cos\\left(30\\textdegree\\right) & 0\\\\\n",
    "0 & 0 & 0 & 1\n",
    "\\end{array}\\right)\\cdot\\left(\\begin{array}{cccc}\n",
    "2 & 0 & 0 & 0\\\\\n",
    "0 & 2 & 0 & 0\\\\\n",
    "0 & 0 & 2 & 0\\\\\n",
    "0 & 0 & 0 & 1\n",
    "\\end{array}\\right)=$$\n",
    "$$=\\left(\\begin{array}{cccc}\n",
    "\\dfrac{3\\sqrt{2}+\\sqrt{6}}{4} & \\dfrac{-\\sqrt{2}+\\sqrt{6}}{2} & \\dfrac{\\sqrt{2}+\\sqrt{6}}{4} & -4\\\\\n",
    "\\dfrac{-3\\sqrt{2}+\\sqrt{6}}{4} & \\dfrac{\\sqrt{2}+\\sqrt{6}}{2} & \\dfrac{\\sqrt{2}-\\sqrt{6}}{4} & 5\\\\\n",
    "-1 & 0 & \\sqrt{3} & -4\\\\\n",
    "0 & 0 & 0 & 1\n",
    "\\end{array}\\right)$$\n",
    "\\\n",
    "Por tanto, la coordenadas en el mundo por ejemplo del vértice: \n",
    "$$V_{1}=\\left(1,1,1,1\\right)^{t},$$\n",
    "serán:\n",
    "$$V_{1,M}=M\\cdot V_{1}=\\left(\\begin{array}{c}\n",
    "\\dfrac{\\sqrt{2}+2\\sqrt{6}-8}{2}\\\\\n",
    "\\dfrac{\\sqrt{6}+10}{2}\\\\\n",
    "\\sqrt{3}-5\\\\\n",
    "1\n",
    "\\end{array}\\right)\\simeq\\left(\\begin{array}{c}\n",
    "-0.843\\\\\n",
    "6.225\\\\\n",
    "-3.268\\\\\n",
    "1\n",
    "\\end{array}\\right)$$"
   ]
  },
  {
   "cell_type": "code",
   "execution_count": 1,
   "id": "41522059-8d68-49a2-8ef8-cf831876e2fe",
   "metadata": {
    "editable": true,
    "slideshow": {
     "slide_type": ""
    },
    "tags": []
   },
   "outputs": [
    {
     "name": "stdout",
     "output_type": "stream",
     "text": [
      "Requirement already satisfied: sympy in c:\\users\\enriq\\appdata\\local\\programs\\python\\python312\\lib\\site-packages (1.14.0)\n",
      "Requirement already satisfied: mpmath<1.4,>=1.1.0 in c:\\users\\enriq\\appdata\\local\\programs\\python\\python312\\lib\\site-packages (from sympy) (1.3.0)\n"
     ]
    },
    {
     "data": {
      "text/latex": [
       "$\\displaystyle 2 \\sqrt{2}$"
      ],
      "text/plain": [
       "2*sqrt(2)"
      ]
     },
     "execution_count": 1,
     "metadata": {},
     "output_type": "execute_result"
    }
   ],
   "source": [
    "!pip install sympy\n",
    "from sympy import *\n",
    "sqrt(8)"
   ]
  },
  {
   "cell_type": "code",
   "execution_count": null,
   "id": "f09d9c6f-7480-4f63-a6a7-a51306380d88",
   "metadata": {},
   "outputs": [],
   "source": []
  }
 ],
 "metadata": {
  "kernelspec": {
   "display_name": "Python 3 (ipykernel)",
   "language": "python",
   "name": "python3"
  },
  "language_info": {
   "codemirror_mode": {
    "name": "ipython",
    "version": 3
   },
   "file_extension": ".py",
   "mimetype": "text/x-python",
   "name": "python",
   "nbconvert_exporter": "python",
   "pygments_lexer": "ipython3",
   "version": "3.12.0"
  }
 },
 "nbformat": 4,
 "nbformat_minor": 5
}
